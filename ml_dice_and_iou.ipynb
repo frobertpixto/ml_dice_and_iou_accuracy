{
 "cells": [
  {
   "cell_type": "markdown",
   "metadata": {},
   "source": [
    "# Dice and IOU for rotated shapes\n",
    "\n",
    "## Context\n",
    "In Machine learning, the Dice and IOU (Intersection over Union) metrics are often used to calculate the accuracy of predictions.\n",
    "\n",
    "For object detection, they are commonly used to compute the accuracy of the predicted bounding boxes vs the labeled boxes. These boxes are typically not rotated. \n",
    "\n",
    "But when shapes are rotated like they are in the context of my app **Mix on Pix**, then it can be more complicated to\n",
    "calculated the area of a shape or the area of the intersection of shapes.\n",
    "\n",
    "\n",
    "Here we use the python **shapely** package to calculate the area of shapes and their intersections."
   ]
  },
  {
   "cell_type": "code",
   "execution_count": 1,
   "metadata": {},
   "outputs": [
    {
     "name": "stdout",
     "output_type": "stream",
     "text": [
      "3.9.13\n"
     ]
    }
   ],
   "source": [
    "from platform import python_version\n",
    "\n",
    "print(python_version())"
   ]
  },
  {
   "cell_type": "code",
   "execution_count": 3,
   "metadata": {},
   "outputs": [],
   "source": [
    "import numpy as np\n",
    "import matplotlib.pyplot as plt\n",
    "import matplotlib.image as mpimg\n",
    "%matplotlib inline\n",
    "\n",
    "from six.moves import cPickle as pickle\n",
    "from shapely.geometry import Polygon\n",
    "\n",
    "import os"
   ]
  },
  {
   "cell_type": "code",
   "execution_count": null,
   "metadata": {},
   "outputs": [],
   "source": [
    "IMAGE_SIZE = 70 # images are 70px x 70px"
   ]
  },
  {
   "cell_type": "code",
   "execution_count": null,
   "metadata": {},
   "outputs": [],
   "source": [
    "# Plot utility function\n",
    "def plot_sample(X, y, pred, axs):\n",
    "   \n",
    "    axs.imshow(X.reshape(IMAGE_SIZE,   IMAGE_SIZE),cmap=\"gray\")\n",
    "    axs.scatter(IMAGE_SIZE*y[0::2],    IMAGE_SIZE*y[1::2],c='orange')\n",
    "    axs.scatter(IMAGE_SIZE*pred[0::2], IMAGE_SIZE*pred[1::2],c='green')"
   ]
  },
  {
   "cell_type": "markdown",
   "metadata": {},
   "source": [
    "## Calculate Accuracy with Dice and IOU\n",
    "- We create polygons using the real vertices (angular points) and predicted vertices.\n",
    "- 100% accuracy occurs when real polygon and predicted polygon share the same area."
   ]
  },
  {
   "cell_type": "code",
   "execution_count": null,
   "metadata": {},
   "outputs": [],
   "source": [
    "# IoU = |A∩B| / |A∪B| = |I| / |U|\n",
    "def calculate_IOU(label, pred, nb_vertices=4):\n",
    "    \n",
    "    y_polygon   = Polygon(label.reshape(nb_vertices, 2))\n",
    "    pred_polygon= Polygon(pred.reshape(nb_vertices, 2))\n",
    "\n",
    "    I = y_polygon.intersection(pred_polygon).area\n",
    "    U = y_polygon.area + pred_polygon.area - I\n",
    "    IOU = I / U\n",
    "    return IOU  \n",
    "\n",
    "#\n",
    "# Dice = 2 * |A∩B| / (|A| + |B|)\n",
    "def calculate_Dice(label, pred, nb_vertices=4):\n",
    "    \n",
    "    y_polygon   = Polygon(label.reshape(nb_vertices, 2))\n",
    "    pred_polygon= Polygon(pred.reshape(nb_vertices, 2))\n",
    "\n",
    "    I = y_polygon.intersection(pred_polygon).area\n",
    "    dice = 2 * I / (y_polygon.area + pred_polygon.area) \n",
    "    return dice"
   ]
  },
  {
   "cell_type": "markdown",
   "metadata": {},
   "source": [
    "## Calculate with data extracted from Mix on Pix validation set"
   ]
  },
  {
   "cell_type": "code",
   "execution_count": null,
   "metadata": {},
   "outputs": [],
   "source": [
    "with open(\"data/vertices.pickle\", 'rb') as f:\n",
    "    data_pickle = pickle.load(f)"
   ]
  },
  {
   "cell_type": "code",
   "execution_count": null,
   "metadata": {},
   "outputs": [],
   "source": [
    "real_images   = data_pickle['real_images']\n",
    "real_vertices = data_pickle['real_vertices']\n",
    "pred_vertices = data_pickle['pred_vertices']"
   ]
  },
  {
   "cell_type": "code",
   "execution_count": null,
   "metadata": {},
   "outputs": [],
   "source": [
    "# These coordinates:\n",
    "# - Have the form: [x1,y1, x2,y2, x3,y3, x4,y4] where (0,0) is top-left and (1,1) is bottom-right\n",
    "# - Are always ordered clockwize (this is important to correctly compute the shape area).\n",
    "print(\"real_vertices:\", real_vertices[0])\n",
    "print(\"pred_vertices:\", pred_vertices[0])\n"
   ]
  },
  {
   "cell_type": "markdown",
   "metadata": {},
   "source": [
    "## Show Dice and IOU for a few images\n",
    "\n",
    "- The white lines are the user drawing\n",
    "- The **orange** dots represent the **labeled** position of the vertices\n",
    "- The **green** dots represent the **predicted** position of the vertices"
   ]
  },
  {
   "cell_type": "code",
   "execution_count": null,
   "metadata": {},
   "outputs": [],
   "source": [
    "fig = plt.figure(figsize=(7, 11))\n",
    "fig.subplots_adjust(hspace=0.13,wspace=0.1,\n",
    "                    left=0,right=1,bottom=0, top=1)\n",
    "nb_pictures = len(real_images)\n",
    "\n",
    "for i in range(nb_pictures):\n",
    "    ax = fig.add_subplot(nb_pictures//3 , 3, i+1, xticks=[], yticks=[])        \n",
    "    plot_sample(real_images[i], real_vertices[i], pred_vertices[i], ax)\n",
    "    \n",
    "    dice = calculate_Dice(real_vertices[i], pred_vertices[i], nb_vertices=4)\n",
    "    IOU  = calculate_IOU(real_vertices[i], pred_vertices[i], nb_vertices=4)\n",
    "    \n",
    "    ax.set_title(\"dice {:5.3f}\\nIOU {:5.3f}\".format(dice, IOU))\n",
    "plt.show()"
   ]
  },
  {
   "cell_type": "code",
   "execution_count": null,
   "metadata": {},
   "outputs": [],
   "source": []
  }
 ],
 "metadata": {
  "kernelspec": {
   "display_name": "Python 3 (ipykernel)",
   "language": "python",
   "name": "python3"
  },
  "language_info": {
   "codemirror_mode": {
    "name": "ipython",
    "version": 3
   },
   "file_extension": ".py",
   "mimetype": "text/x-python",
   "name": "python",
   "nbconvert_exporter": "python",
   "pygments_lexer": "ipython3",
   "version": "3.9.13"
  }
 },
 "nbformat": 4,
 "nbformat_minor": 4
}
